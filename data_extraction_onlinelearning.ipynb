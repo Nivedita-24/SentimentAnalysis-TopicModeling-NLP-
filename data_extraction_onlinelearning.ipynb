{
  "nbformat": 4,
  "nbformat_minor": 5,
  "metadata": {
    "kernelspec": {
      "display_name": "Python 3",
      "language": "python",
      "name": "python3"
    },
    "language_info": {
      "codemirror_mode": {
        "name": "ipython",
        "version": 3
      },
      "file_extension": ".py",
      "mimetype": "text/x-python",
      "name": "python",
      "nbconvert_exporter": "python",
      "pygments_lexer": "ipython3",
      "version": "3.8.8"
    },
    "colab": {
      "name": "data_extraction_onlinelearning.ipynb",
      "provenance": [],
      "include_colab_link": true
    }
  },
  "cells": [
    {
      "cell_type": "markdown",
      "metadata": {
        "id": "view-in-github",
        "colab_type": "text"
      },
      "source": [
        "<a href=\"https://colab.research.google.com/github/Nivedita-24/Text_Mining-NLP/blob/main/data_extraction_onlinelearning.ipynb\" target=\"_parent\"><img src=\"https://colab.research.google.com/assets/colab-badge.svg\" alt=\"Open In Colab\"/></a>"
      ]
    },
    {
      "cell_type": "markdown",
      "metadata": {
        "id": "f6d2bf73"
      },
      "source": [
        "# Data Extraction"
      ],
      "id": "f6d2bf73"
    },
    {
      "cell_type": "markdown",
      "metadata": {
        "id": "6bf15d42"
      },
      "source": [
        "### Installing required libraries"
      ],
      "id": "6bf15d42"
    },
    {
      "cell_type": "code",
      "metadata": {
        "id": "ec5ec681"
      },
      "source": [
        "#pip install tweepy\n",
        "#pip uninstall tweepy\n",
        "#pip install git+https://github.com/tweepy/tweepy.git\n",
        "#pip install git+https://github.com/JustAnotherArchivist/snscrape.git\n",
        "#conda install -c conda-forge emoji"
      ],
      "id": "ec5ec681",
      "execution_count": null,
      "outputs": []
    },
    {
      "cell_type": "markdown",
      "metadata": {
        "id": "7830f2d0"
      },
      "source": [
        "### Importing required libraries"
      ],
      "id": "7830f2d0"
    },
    {
      "cell_type": "code",
      "metadata": {
        "id": "10db9baf"
      },
      "source": [
        "import tweepy\n",
        "import snscrape.modules.twitter as sntwitter\n",
        "import csv\n",
        "import pandas as pd\n",
        "import re\n",
        "import emoji"
      ],
      "id": "10db9baf",
      "execution_count": null,
      "outputs": []
    },
    {
      "cell_type": "markdown",
      "metadata": {
        "id": "e1f7e547"
      },
      "source": [
        "### Twitter Authorization"
      ],
      "id": "e1f7e547"
    },
    {
      "cell_type": "code",
      "metadata": {
        "id": "6e932ab2"
      },
      "source": [
        "mykeys = open('t_keys.txt', 'r').read().splitlines()\n",
        "\n",
        "# Twitter API credentials\n",
        "api_keys = mykeys[0]\n",
        "api_secret_key = mykeys[1]\n",
        "access_token = mykeys[2]\n",
        "access_token_secret = mykeys[3]\n",
        "\n",
        "# Creating Authorization\n",
        "auth = tweepy.OAuthHandler(consumer_key=api_keys, consumer_secret = api_secret_key)\n",
        "\n",
        "# Set access token and access token secret keys\n",
        "auth.set_access_token(access_token, access_token_secret)\n",
        "\n",
        "# Creating API object while passing in the authorizatoin information\n",
        "api = tweepy.API(auth, wait_on_rate_limit = True)"
      ],
      "id": "6e932ab2",
      "execution_count": null,
      "outputs": []
    },
    {
      "cell_type": "markdown",
      "metadata": {
        "id": "4060daad"
      },
      "source": [
        "### Data Cleaning"
      ],
      "id": "4060daad"
    },
    {
      "cell_type": "code",
      "metadata": {
        "id": "093df060"
      },
      "source": [
        "# Creating csv file\n",
        "ol_csv = open('onlinelearning_raw_data.csv', 'a', newline='', encoding='utf8')\n",
        "\n",
        "# Writing to created csv file\n",
        "csvWriterOL = csv.writer(ol_csv)\n",
        "csvWriterOL.writerow(['ID', 'Date', 'Tweet'])\n",
        "\n",
        "# Tweets from 1st March 2020 to 31st October 2021\n",
        "for i,tweet in enumerate(sntwitter.TwitterSearchScraper('#onlinelearning + lang:en since:2020-03-01 until:2021-10-31').get_items()):   \n",
        "    csvWriterOL.writerow([tweet.id, tweet.date, tweet.content])\n",
        "                                                        \n",
        "ol_csv.close()\n"
      ],
      "id": "093df060",
      "execution_count": null,
      "outputs": []
    },
    {
      "cell_type": "code",
      "metadata": {
        "id": "b1ec904f"
      },
      "source": [
        "# Creating a data frame using the data in the csv file\n",
        "ol_df = pd.read_csv('onlinelearning_raw_data.csv')"
      ],
      "id": "b1ec904f",
      "execution_count": null,
      "outputs": []
    },
    {
      "cell_type": "code",
      "metadata": {
        "id": "3d3ddbb6"
      },
      "source": [
        "# Removing the tweets which contains 'http' as those tweets are advertisements\n",
        "ol_df = ol_df[~ol_df.Tweet.str.contains(\"http\")]"
      ],
      "id": "3d3ddbb6",
      "execution_count": null,
      "outputs": []
    },
    {
      "cell_type": "code",
      "metadata": {
        "id": "3319d391"
      },
      "source": [
        "# Removing user names from each tweet\n",
        "ol_df['Tweet'] = ol_df['Tweet'].apply(lambda x: ' '.join(re.sub(\"(@[A-Za-z0-9]+)\", \"\", x).split()))"
      ],
      "id": "3319d391",
      "execution_count": null,
      "outputs": []
    },
    {
      "cell_type": "code",
      "metadata": {
        "id": "03baa21c"
      },
      "source": [
        "# Removing Hashtags\n",
        "ol_df['Tweet'] = ol_df['Tweet'].apply(lambda x: ' '.join(re.sub(\"(#[A-Za-z0-9]+)\", \"\", x).split()))"
      ],
      "id": "03baa21c",
      "execution_count": null,
      "outputs": []
    },
    {
      "cell_type": "code",
      "metadata": {
        "id": "48c9b0d5"
      },
      "source": [
        "# Creating a final csv file with cleaned data\n",
        "ol_df.to_csv('onlinelearning_cleaned_data_latest.csv')"
      ],
      "id": "48c9b0d5",
      "execution_count": null,
      "outputs": []
    },
    {
      "cell_type": "code",
      "metadata": {
        "id": "1820abd4",
        "outputId": "e2b8590b-4eb3-4101-f3f4-446c9c38bf5d"
      },
      "source": [
        "ol_df"
      ],
      "id": "1820abd4",
      "execution_count": null,
      "outputs": [
        {
          "data": {
            "text/html": [
              "<div>\n",
              "<style scoped>\n",
              "    .dataframe tbody tr th:only-of-type {\n",
              "        vertical-align: middle;\n",
              "    }\n",
              "\n",
              "    .dataframe tbody tr th {\n",
              "        vertical-align: top;\n",
              "    }\n",
              "\n",
              "    .dataframe thead th {\n",
              "        text-align: right;\n",
              "    }\n",
              "</style>\n",
              "<table border=\"1\" class=\"dataframe\">\n",
              "  <thead>\n",
              "    <tr style=\"text-align: right;\">\n",
              "      <th></th>\n",
              "      <th>ID</th>\n",
              "      <th>Date</th>\n",
              "      <th>Tweet</th>\n",
              "    </tr>\n",
              "  </thead>\n",
              "  <tbody>\n",
              "    <tr>\n",
              "      <th>2</th>\n",
              "      <td>1454594698614562821</td>\n",
              "      <td>2021-10-30 23:42:55+00:00</td>\n",
              "      <td>All Green STARS on ! Every lesson, every unit!...</td>\n",
              "    </tr>\n",
              "    <tr>\n",
              "      <th>41</th>\n",
              "      <td>1454485143037546497</td>\n",
              "      <td>2021-10-30 16:27:35+00:00</td>\n",
              "      <td>each week and then pass over to the children T...</td>\n",
              "    </tr>\n",
              "    <tr>\n",
              "      <th>42</th>\n",
              "      <td>1454481924928389123</td>\n",
              "      <td>2021-10-30 16:14:48+00:00</td>\n",
              "      <td>Why did you consider a profession of teacher?</td>\n",
              "    </tr>\n",
              "    <tr>\n",
              "      <th>85</th>\n",
              "      <td>1454430596613099520</td>\n",
              "      <td>2021-10-30 12:50:50+00:00</td>\n",
              "      <td>Read from ALL sources Remember, the test will ...</td>\n",
              "    </tr>\n",
              "    <tr>\n",
              "      <th>88</th>\n",
              "      <td>1454429071580930048</td>\n",
              "      <td>2021-10-30 12:44:47+00:00</td>\n",
              "      <td>Answer ALL questions There is no negative mark...</td>\n",
              "    </tr>\n",
              "    <tr>\n",
              "      <th>...</th>\n",
              "      <td>...</td>\n",
              "      <td>...</td>\n",
              "      <td>...</td>\n",
              "    </tr>\n",
              "    <tr>\n",
              "      <th>322657</th>\n",
              "      <td>1234128123668652034</td>\n",
              "      <td>2020-03-01 14:47:28+00:00</td>\n",
              "      <td>Into the world of remote online Learning due t...</td>\n",
              "    </tr>\n",
              "    <tr>\n",
              "      <th>322658</th>\n",
              "      <td>1234124888652341248</td>\n",
              "      <td>2020-03-01 14:34:37+00:00</td>\n",
              "      <td>Many teachers in Ontario are using asynchronou...</td>\n",
              "    </tr>\n",
              "    <tr>\n",
              "      <th>322671</th>\n",
              "      <td>1234085800070934528</td>\n",
              "      <td>2020-03-01 11:59:17+00:00</td>\n",
              "      <td>Closed b/c of COVID-19? Check out FB group \"In...</td>\n",
              "    </tr>\n",
              "    <tr>\n",
              "      <th>322703</th>\n",
              "      <td>1233928775034974208</td>\n",
              "      <td>2020-03-01 01:35:19+00:00</td>\n",
              "      <td>So agree with you. It’s all about journey</td>\n",
              "    </tr>\n",
              "    <tr>\n",
              "      <th>322704</th>\n",
              "      <td>1233904873386717185</td>\n",
              "      <td>2020-03-01 00:00:21+00:00</td>\n",
              "      <td>Calsouthern let's you start your courses anyti...</td>\n",
              "    </tr>\n",
              "  </tbody>\n",
              "</table>\n",
              "<p>28028 rows × 3 columns</p>\n",
              "</div>"
            ],
            "text/plain": [
              "                         ID                       Date  \\\n",
              "2       1454594698614562821  2021-10-30 23:42:55+00:00   \n",
              "41      1454485143037546497  2021-10-30 16:27:35+00:00   \n",
              "42      1454481924928389123  2021-10-30 16:14:48+00:00   \n",
              "85      1454430596613099520  2021-10-30 12:50:50+00:00   \n",
              "88      1454429071580930048  2021-10-30 12:44:47+00:00   \n",
              "...                     ...                        ...   \n",
              "322657  1234128123668652034  2020-03-01 14:47:28+00:00   \n",
              "322658  1234124888652341248  2020-03-01 14:34:37+00:00   \n",
              "322671  1234085800070934528  2020-03-01 11:59:17+00:00   \n",
              "322703  1233928775034974208  2020-03-01 01:35:19+00:00   \n",
              "322704  1233904873386717185  2020-03-01 00:00:21+00:00   \n",
              "\n",
              "                                                    Tweet  \n",
              "2       All Green STARS on ! Every lesson, every unit!...  \n",
              "41      each week and then pass over to the children T...  \n",
              "42          Why did you consider a profession of teacher?  \n",
              "85      Read from ALL sources Remember, the test will ...  \n",
              "88      Answer ALL questions There is no negative mark...  \n",
              "...                                                   ...  \n",
              "322657  Into the world of remote online Learning due t...  \n",
              "322658  Many teachers in Ontario are using asynchronou...  \n",
              "322671  Closed b/c of COVID-19? Check out FB group \"In...  \n",
              "322703          So agree with you. It’s all about journey  \n",
              "322704  Calsouthern let's you start your courses anyti...  \n",
              "\n",
              "[28028 rows x 3 columns]"
            ]
          },
          "execution_count": 10,
          "metadata": {},
          "output_type": "execute_result"
        }
      ]
    }
  ]
}